{
 "cells": [
  {
   "cell_type": "code",
   "execution_count": 92,
   "metadata": {
    "collapsed": true
   },
   "outputs": [],
   "source": [
    "#TODO Get proxy IP addresses\n",
    "\n",
    "from selenium import webdriver\n",
    "from selenium.webdriver.remote.command import Command\n",
    "from selenium.common.exceptions import WebDriverException\n",
    "\n",
    "import win32gui\n",
    "\n",
    "import time\n",
    "\n",
    "URL = \"http://whatismyipaddress.com\"\n",
    "\n",
    "PROXY = \"178.62.96.229:8080\" # IP:PORT or HOST:PORT\n",
    "\n",
    "ZOOM = '70'\n",
    "width = 700\n",
    "height = 400\n",
    "\n",
    "# x_pos = 0\n",
    "# y_pos = 0\n",
    "\n",
    "# x_pos = 700\n",
    "# y_pos = 400\n",
    "\n",
    "# x_pos = 0\n",
    "# y_pos = 400\n",
    "\n",
    "x_pos = 700\n",
    "y_pos = 0\n",
    "\n"
   ]
  },
  {
   "cell_type": "code",
   "execution_count": 93,
   "metadata": {},
   "outputs": [],
   "source": [
    "\n",
    "class Browser():\n",
    "    def __init__(self, url, proxy, x, y, width, height):\n",
    "        self.proxy = proxy\n",
    "        self.url = url\n",
    "        self.x_pos = x\n",
    "        self.y_pos = y\n",
    "        self.width = width\n",
    "        self.height = height\n",
    "        \n",
    "    def run(self):\n",
    "        \n",
    "        self.chrome_options = webdriver.ChromeOptions()\n",
    "        self.chrome_options.add_argument(\"--proxy-server=\"+self.proxy)\n",
    "        \n",
    "        self.driver = webdriver.Chrome(chrome_options=self.chrome_options)\n",
    "        \n",
    "        self.driver.set_window_position(self.x_pos, self.y_pos)\n",
    "        self.driver.set_window_size(self.width, self.height)\n",
    "        \n",
    "        self.driver.get(self.url)\n",
    "        self.driver.execute_script(\"document.body.style.zoom='\"+ZOOM+\"%'\")\n",
    "                \n",
    "        \n",
    "        while self.alive():\n",
    "            time.sleep(1)\n",
    "        #self.run()\n",
    "        \n",
    "    def alive(self):\n",
    "        try:\n",
    "            self.driver.title\n",
    "            return True\n",
    "        except WebDriverException:\n",
    "            return False\n"
   ]
  },
  {
   "cell_type": "code",
   "execution_count": 94,
   "metadata": {},
   "outputs": [],
   "source": [
    "#TODO ProcessPool\n",
    "browser1 = Browser(URL, PROXY, x_pos, y_pos, width, height)\n",
    "browser1.run()\n"
   ]
  },
  {
   "cell_type": "code",
   "execution_count": 82,
   "metadata": {},
   "outputs": [],
   "source": [
    "\n",
    "\n"
   ]
  },
  {
   "cell_type": "code",
   "execution_count": null,
   "metadata": {},
   "outputs": [],
   "source": []
  },
  {
   "cell_type": "code",
   "execution_count": null,
   "metadata": {},
   "outputs": [],
   "source": []
  },
  {
   "cell_type": "code",
   "execution_count": null,
   "metadata": {},
   "outputs": [],
   "source": []
  }
 ],
 "metadata": {
  "kernelspec": {
   "display_name": "Python 2",
   "language": "python",
   "name": "python2"
  },
  "language_info": {
   "codemirror_mode": {
    "name": "ipython",
    "version": 2
   },
   "file_extension": ".py",
   "mimetype": "text/x-python",
   "name": "python",
   "nbconvert_exporter": "python",
   "pygments_lexer": "ipython2",
   "version": "2.7.6"
  }
 },
 "nbformat": 4,
 "nbformat_minor": 0
}
