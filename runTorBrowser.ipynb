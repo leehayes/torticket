{
 "cells": [
  {
   "cell_type": "code",
   "execution_count": 1,
   "metadata": {
    "collapsed": true
   },
   "outputs": [],
   "source": [
    "#TODO Get proxy IP addresses\n",
    "\n",
    "from selenium import webdriver\n",
    "from selenium.webdriver.remote.command import Command\n",
    "from selenium.common.exceptions import WebDriverException\n",
    "\n",
    "import win32gui\n",
    "\n",
    "import time\n",
    "import random\n",
    "import collections\n",
    "\n",
    "URL = \"http://whatismyipaddress.com\"\n",
    "\n",
    "PROXYS = [\"35.196.26.166:3128\", \"80.211.4.187:8080\"]\n",
    "\n",
    "ZOOM = '70'\n",
    "width = 700\n",
    "height = 400\n",
    "\n",
    "Window = collections.namedtuple('Window', 'x y w h z')\n",
    "\n",
    "\n",
    "window_A = Window(x=0, y=0, w=width, h=height, z =ZOOM)\n",
    "window_B = Window(x=700, y=400, w=width, h=height, z =ZOOM)\n",
    "window_C = Window(x=0, y=400, w=width, h=height, z =ZOOM)\n",
    "window_D = Window(x=700, y=0, w=width, h=height, z =ZOOM)\n"
   ]
  },
  {
   "cell_type": "code",
   "execution_count": 12,
   "metadata": {},
   "outputs": [],
   "source": [
    "from selenium.webdriver.remote.command import Command\n",
    "            \n",
    "\n",
    "class Browser():\n",
    "    def __init__(self, url, proxys, window):\n",
    "        self.proxys = proxys\n",
    "        self.url = url\n",
    "        self.window = window\n",
    "        \n",
    "        \n",
    "    def run(self):\n",
    "        try:\n",
    "            chrome_options = webdriver.ChromeOptions()\n",
    "            chrome_options.add_argument(\"--proxy-server=\"+random.choice(self.proxys))\n",
    "\n",
    "            self.driver = webdriver.Chrome(chrome_options=chrome_options)\n",
    "\n",
    "            self.driver.set_window_position(self.window.x, self.window.y)\n",
    "            self.driver.set_window_size(self.window.w, self.window.h)\n",
    "\n",
    "            self.driver.get(self.url)\n",
    "\n",
    "            self.driver.execute_script(\"document.body.style.zoom='\"+self.window.z+\"%'\")\n",
    "        finally:\n",
    "            while self.alive():\n",
    "                time.sleep(1)\n",
    "            self.run()\n",
    "    \n",
    "    def alive(self):\n",
    "        try:\n",
    "            self.driver.title\n",
    "            return True\n",
    "        except WebDriverException:\n",
    "            return False\n"
   ]
  },
  {
   "cell_type": "code",
   "execution_count": 13,
   "metadata": {},
   "outputs": [],
   "source": [
    "#TODO ProcessPool\n",
    "browser1 = Browser(URL, PROXYS, window_D)\n",
    "browser1.run()\n"
   ]
  },
  {
   "cell_type": "code",
   "execution_count": 18,
   "metadata": {},
   "outputs": [],
   "source": [
    "\n",
    "\n"
   ]
  },
  {
   "cell_type": "code",
   "execution_count": 18,
   "metadata": {},
   "outputs": [],
   "source": []
  },
  {
   "cell_type": "code",
   "execution_count": null,
   "metadata": {},
   "outputs": [],
   "source": []
  },
  {
   "cell_type": "code",
   "execution_count": null,
   "metadata": {},
   "outputs": [],
   "source": []
  }
 ],
 "metadata": {
  "kernelspec": {
   "display_name": "Python 2",
   "language": "python",
   "name": "python2"
  },
  "language_info": {
   "codemirror_mode": {
    "name": "ipython",
    "version": 2
   },
   "file_extension": ".py",
   "mimetype": "text/x-python",
   "name": "python",
   "nbconvert_exporter": "python",
   "pygments_lexer": "ipython2",
   "version": "2.7.6"
  }
 },
 "nbformat": 4,
 "nbformat_minor": 0
}
