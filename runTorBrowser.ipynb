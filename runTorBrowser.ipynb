{
 "cells": [
  {
   "cell_type": "code",
   "execution_count": 4,
   "metadata": {
    "collapsed": true
   },
   "outputs": [],
   "source": [
    "\n",
    "import collections\n",
    "\n",
    "URL = \"http://whatismyipaddress.com\"\n",
    "\n",
    "PROXYS = [\"35.196.26.166:3128\", \"80.211.4.187:8080\"]\n",
    "\n",
    "ZOOM = '60'\n",
    "width = 700\n",
    "height = 350\n",
    "\n",
    "Window = collections.namedtuple('Window', 'x y w h z')\n",
    "\n",
    "\n",
    "window_A = Window(x=0, y=0, w=width, h=height, z =ZOOM)\n",
    "window_B = Window(x=700, y=350, w=width, h=height, z =ZOOM)\n",
    "window_C = Window(x=0, y=350, w=width, h=height, z =ZOOM)\n",
    "window_D = Window(x=700, y=0, w=width, h=height, z =ZOOM)\n"
   ]
  },
  {
   "cell_type": "code",
   "execution_count": 5,
   "metadata": {},
   "outputs": [
    {
     "name": "stdout",
     "output_type": "stream",
     "text": [
      "Done\n"
     ]
    }
   ],
   "source": [
    "from multiprocessing import Process\n",
    "from browser import worker\n",
    "\n",
    "if __name__ == '__main__':\n",
    "    windows = [window_A, window_B, window_C, window_D]\n",
    "    jobs = []\n",
    "    for window in windows:\n",
    "        p = Process(target=worker, args=(URL, PROXYS, window.x, window.y, window.w, window.h, window.z,))\n",
    "        jobs.append(p)\n",
    "        p.start()\n",
    "\n",
    "print(\"Done\")"
   ]
  },
  {
   "cell_type": "code",
   "execution_count": 14,
   "metadata": {},
   "outputs": [],
   "source": [
    "      \n"
   ]
  },
  {
   "cell_type": "code",
   "execution_count": 3,
   "metadata": {},
   "outputs": [],
   "source": [
    "\n",
    "\n"
   ]
  },
  {
   "cell_type": "code",
   "execution_count": 18,
   "metadata": {},
   "outputs": [],
   "source": []
  },
  {
   "cell_type": "code",
   "execution_count": null,
   "metadata": {},
   "outputs": [],
   "source": []
  },
  {
   "cell_type": "code",
   "execution_count": null,
   "metadata": {},
   "outputs": [],
   "source": []
  }
 ],
 "metadata": {
  "kernelspec": {
   "display_name": "Python 2",
   "language": "python",
   "name": "python2"
  },
  "language_info": {
   "codemirror_mode": {
    "name": "ipython",
    "version": 2
   },
   "file_extension": ".py",
   "mimetype": "text/x-python",
   "name": "python",
   "nbconvert_exporter": "python",
   "pygments_lexer": "ipython2",
   "version": "2.7.6"
  }
 },
 "nbformat": 4,
 "nbformat_minor": 0
}
